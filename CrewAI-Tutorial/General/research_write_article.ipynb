{
 "cells": [
  {
   "cell_type": "markdown",
   "metadata": {},
   "source": [
    "You can download the `requirements.txt` for this course from the workspace of this lab. `File --> Open...`"
   ]
  },
  {
   "cell_type": "markdown",
   "metadata": {},
   "source": [
    "# L2: Create Agents to Research and Write an Article\n",
    "\n",
    "In this lesson, you will be introduced to the foundational concepts of multi-agent systems and get an overview of the crewAI framework."
   ]
  },
  {
   "cell_type": "markdown",
   "metadata": {},
   "source": [
    "The libraries are already installed in the classroom. If you're running this notebook on your own machine, you can install the following:\n",
    "```Python\n",
    "!pip install crewai==0.28.8 crewai_tools==0.1.6 langchain_community==0.0.29\n",
    "```"
   ]
  },
  {
   "cell_type": "code",
   "execution_count": 1,
   "metadata": {
    "height": 64
   },
   "outputs": [],
   "source": [
    "# Warning control\n",
    "import warnings\n",
    "warnings.filterwarnings('ignore')"
   ]
  },
  {
   "cell_type": "markdown",
   "metadata": {},
   "source": [
    "- Import from the crewAI libray."
   ]
  },
  {
   "cell_type": "code",
   "execution_count": 2,
   "metadata": {
    "height": 30
   },
   "outputs": [],
   "source": [
    "from crewai import Agent, Task, Crew"
   ]
  },
  {
   "cell_type": "markdown",
   "metadata": {},
   "source": [
    "- As a LLM for your agents, you'll be using OpenAI's `gpt-3.5-turbo`.\n",
    "\n",
    "**Optional Note:** crewAI also allow other popular models to be used as a LLM for your Agents. You can see some of the examples at the [bottom of the notebook](#1)."
   ]
  },
  {
   "cell_type": "code",
   "execution_count": 12,
   "metadata": {
    "height": 98
   },
   "outputs": [],
   "source": [
    "import os\n",
    "from dotenv import load_dotenv\n",
    "load_dotenv(\"F:\\Social AI\\multiagent-framework\\.venv\\.env\")\n",
    "os.environ[\"OPENAI_MODEL_NAME\"] = 'gpt-4o-mini'"
   ]
  },
  {
   "cell_type": "markdown",
   "metadata": {},
   "source": [
    "## Creating Agents\n",
    "\n",
    "- Define your Agents, and provide them a `role`, `goal` and `backstory`.\n",
    "- It has been seen that LLMs perform better when they are role playing."
   ]
  },
  {
   "cell_type": "markdown",
   "metadata": {},
   "source": [
    "### Agent: Planner\n",
    "\n",
    "**Note**: The benefit of using _multiple strings_ :\n",
    "```Python\n",
    "varname = \"line 1 of text\"\n",
    "          \"line 2 of text\"\n",
    "```\n",
    "\n",
    "versus the _triple quote docstring_:\n",
    "```Python\n",
    "varname = \"\"\"line 1 of text\n",
    "             line 2 of text\n",
    "          \"\"\"\n",
    "```\n",
    "is that it can avoid adding those whitespaces and newline characters, making it better formatted to be passed to the LLM."
   ]
  },
  {
   "cell_type": "code",
   "execution_count": 13,
   "metadata": {
    "height": 234
   },
   "outputs": [],
   "source": [
    "planner = Agent(\n",
    "    role=\"Content Planner\",\n",
    "    goal=\"Plan engaging and factually accurate content on {topic}\",\n",
    "    backstory=\"You're working on planning a blog article \"\n",
    "              \"about the topic: {topic}.\"\n",
    "              \"You collect information that helps the \"\n",
    "              \"audience learn something \"\n",
    "              \"and make informed decisions. \"\n",
    "              \"Your work is the basis for \"\n",
    "              \"the Content Writer to write an article on this topic.\",\n",
    "    allow_delegation=False,\n",
    "\tverbose=True\n",
    ")"
   ]
  },
  {
   "cell_type": "markdown",
   "metadata": {},
   "source": [
    "### Agent: Writer"
   ]
  },
  {
   "cell_type": "code",
   "execution_count": 14,
   "metadata": {
    "height": 370
   },
   "outputs": [],
   "source": [
    "writer = Agent(\n",
    "    role=\"Content Writer\",\n",
    "    goal=\"Write insightful and factually accurate \"\n",
    "         \"opinion piece about the topic: {topic}\",\n",
    "    backstory=\"You're working on a writing \"\n",
    "              \"a new opinion piece about the topic: {topic}. \"\n",
    "              \"You base your writing on the work of \"\n",
    "              \"the Content Planner, who provides an outline \"\n",
    "              \"and relevant context about the topic. \"\n",
    "              \"You follow the main objectives and \"\n",
    "              \"direction of the outline, \"\n",
    "              \"as provide by the Content Planner. \"\n",
    "              \"You also provide objective and impartial insights \"\n",
    "              \"and back them up with information \"\n",
    "              \"provide by the Content Planner. \"\n",
    "              \"You acknowledge in your opinion piece \"\n",
    "              \"when your statements are opinions \"\n",
    "              \"as opposed to objective statements.\",\n",
    "    allow_delegation=False,\n",
    "    verbose=True\n",
    ")"
   ]
  },
  {
   "cell_type": "markdown",
   "metadata": {},
   "source": [
    "### Agent: Editor"
   ]
  },
  {
   "cell_type": "code",
   "execution_count": 15,
   "metadata": {
    "height": 268
   },
   "outputs": [],
   "source": [
    "editor = Agent(\n",
    "    role=\"Editor\",\n",
    "    goal=\"Edit a given blog post to align with \"\n",
    "         \"the writing style of the organization. \",\n",
    "    backstory=\"You are an editor who receives a blog post \"\n",
    "              \"from the Content Writer. \"\n",
    "              \"Your goal is to review the blog post \"\n",
    "              \"to ensure that it follows journalistic best practices,\"\n",
    "              \"provides balanced viewpoints \"\n",
    "              \"when providing opinions or assertions, \"\n",
    "              \"and also avoids major controversial topics \"\n",
    "              \"or opinions when possible.\",\n",
    "    allow_delegation=False,\n",
    "    verbose=True\n",
    ")"
   ]
  },
  {
   "cell_type": "markdown",
   "metadata": {},
   "source": [
    "## Creating Tasks\n",
    "\n",
    "- Define your Tasks, and provide them a `description`, `expected_output` and `agent`."
   ]
  },
  {
   "cell_type": "markdown",
   "metadata": {},
   "source": [
    "### Task: Plan"
   ]
  },
  {
   "cell_type": "code",
   "execution_count": 16,
   "metadata": {
    "height": 268
   },
   "outputs": [],
   "source": [
    "plan = Task(\n",
    "    description=(\n",
    "        \"1. Prioritize the latest trends, key players, \"\n",
    "            \"and noteworthy news on {topic}.\\n\"\n",
    "        \"2. Identify the target audience, considering \"\n",
    "            \"their interests and pain points.\\n\"\n",
    "        \"3. Develop a detailed content outline including \"\n",
    "            \"an introduction, key points, and a call to action.\\n\"\n",
    "        \"4. Include SEO keywords and relevant data or sources.\"\n",
    "    ),\n",
    "    expected_output=\"A comprehensive content plan document \"\n",
    "        \"with an outline, audience analysis, \"\n",
    "        \"SEO keywords, and resources.\",\n",
    "    agent=planner,\n",
    ")"
   ]
  },
  {
   "cell_type": "markdown",
   "metadata": {},
   "source": [
    "### Task: Write"
   ]
  },
  {
   "cell_type": "code",
   "execution_count": 17,
   "metadata": {
    "height": 319
   },
   "outputs": [],
   "source": [
    "write = Task(\n",
    "    description=(\n",
    "        \"1. Use the content plan to craft a compelling \"\n",
    "            \"blog post on {topic}.\\n\"\n",
    "        \"2. Incorporate SEO keywords naturally.\\n\"\n",
    "\t\t\"3. Sections/Subtitles are properly named \"\n",
    "            \"in an engaging manner.\\n\"\n",
    "        \"4. Ensure the post is structured with an \"\n",
    "            \"engaging introduction, insightful body, \"\n",
    "            \"and a summarizing conclusion.\\n\"\n",
    "        \"5. Proofread for grammatical errors and \"\n",
    "            \"alignment with the brand's voice.\\n\"\n",
    "    ),\n",
    "    expected_output=\"A well-written blog post \"\n",
    "        \"in markdown format, ready for publication, \"\n",
    "        \"each section should have 2 or 3 paragraphs.\",\n",
    "    agent=writer,\n",
    ")"
   ]
  },
  {
   "cell_type": "markdown",
   "metadata": {},
   "source": [
    "### Task: Edit"
   ]
  },
  {
   "cell_type": "code",
   "execution_count": 18,
   "metadata": {
    "height": 166
   },
   "outputs": [],
   "source": [
    "edit = Task(\n",
    "    description=(\"Proofread the given blog post for \"\n",
    "                 \"grammatical errors and \"\n",
    "                 \"alignment with the brand's voice.\"),\n",
    "    expected_output=\"A well-written blog post in markdown format, \"\n",
    "                    \"ready for publication, \"\n",
    "                    \"each section should have 2 or 3 paragraphs.\",\n",
    "    agent=editor\n",
    ")"
   ]
  },
  {
   "cell_type": "markdown",
   "metadata": {},
   "source": [
    "## Creating the Crew\n",
    "\n",
    "- Create your crew of Agents\n",
    "- Pass the tasks to be performed by those agents.\n",
    "    - **Note**: *For this simple example*, the tasks will be performed sequentially (i.e they are dependent on each other), so the _order_ of the task in the list _matters_.\n",
    "- `verbose=2` allows you to see all the logs of the execution. "
   ]
  },
  {
   "cell_type": "code",
   "execution_count": 19,
   "metadata": {
    "height": 98
   },
   "outputs": [
    {
     "name": "stderr",
     "output_type": "stream",
     "text": [
      "WARNING:opentelemetry.trace:Overriding of current TracerProvider is not allowed\n"
     ]
    }
   ],
   "source": [
    "crew = Crew(\n",
    "    agents=[planner, writer, editor],\n",
    "    tasks=[plan, write, edit],\n",
    "    verbose=True\n",
    ")"
   ]
  },
  {
   "cell_type": "markdown",
   "metadata": {},
   "source": [
    "## Running the Crew"
   ]
  },
  {
   "cell_type": "markdown",
   "metadata": {},
   "source": [
    "**Note**: LLMs can provide different outputs for they same input, so what you get might be different than what you see in the video."
   ]
  },
  {
   "cell_type": "code",
   "execution_count": 20,
   "metadata": {
    "height": 30
   },
   "outputs": [
    {
     "name": "stdout",
     "output_type": "stream",
     "text": [
      "\u001b[1m\u001b[95m# Agent:\u001b[00m \u001b[1m\u001b[92mContent Planner\u001b[00m\n",
      "\u001b[95m## Task:\u001b[00m \u001b[92m1. Prioritize the latest trends, key players, and noteworthy news on Artificial Intelligence.\n",
      "2. Identify the target audience, considering their interests and pain points.\n",
      "3. Develop a detailed content outline including an introduction, key points, and a call to action.\n",
      "4. Include SEO keywords and relevant data or sources.\u001b[00m\n",
      "\n",
      "\n",
      "\u001b[1m\u001b[95m# Agent:\u001b[00m \u001b[1m\u001b[92mContent Planner\u001b[00m\n",
      "\u001b[95m## Final Answer:\u001b[00m \u001b[92m\n",
      "**Content Plan Document for Blog Article on Artificial Intelligence**\n",
      "\n",
      "**1. Latest Trends, Key Players, and Noteworthy News on Artificial Intelligence**\n",
      "\n",
      "**Trends:**\n",
      "- Advancements in Generative AI (e.g., ChatGPT, DALL-E).\n",
      "- Increased focus on AI ethics and regulation.\n",
      "- The surge in AI-driven automation in various sectors (healthcare, finance, manufacturing).\n",
      "- AI in Natural Language Processing (NLP) advancements.\n",
      "- Applications of AI in cybersecurity.\n",
      "\n",
      "**Key Players:**\n",
      "- OpenAI\n",
      "- Google DeepMind\n",
      "- Microsoft\n",
      "- IBM Watson\n",
      "- NVIDIA\n",
      "- Amazon Web Services (AWS)\n",
      "- Facebook AI Research (FAIR)\n",
      "\n",
      "**Noteworthy News:**\n",
      "- New AI regulations proposed by the EU.\n",
      "- Major partnerships, e.g., Microsoft’s investment in OpenAI.\n",
      "- Breakthroughs in AI systems replicating human-level cognition.\n",
      "\n",
      "**2. Target Audience Analysis**\n",
      "\n",
      "**Target Audience:**\n",
      "- Tech enthusiasts and professionals.\n",
      "- Business owners looking to integrate AI into their operations.\n",
      "- Students and academics curious about AI developments.\n",
      "- Policy makers and regulators interested in AI ethics and legislation.\n",
      "- General public wanting to understand AI's impact on their lives.\n",
      "\n",
      "**Audience Pain Points:**\n",
      "- Understanding the complexity and potential uses of AI technologies.\n",
      "- Concerns about job displacement due to automation.\n",
      "- Ethical implications and biases in AI systems.\n",
      "- Difficulty keeping up with rapidly evolving AI trends and news.\n",
      "\n",
      "**3. Detailed Content Outline**\n",
      "\n",
      "**Introduction**\n",
      "- Brief explaining what AI is and its significance in today's world.\n",
      "- Mention the rapid evolution of AI technology and its implications for various sectors.\n",
      "\n",
      "**Key Points**\n",
      "- **Current Trends in AI**\n",
      "    - Explore the latest advancements in Generative AI and real-world applications.\n",
      "    - Discuss the importance of AI ethics in development and implementation.\n",
      "- **Impact of AI on Industries**\n",
      "    - Healthcare: Personalized treatments and diagnostics.\n",
      "    - Finance: Fraud detection systems and algorithmic trading.\n",
      "    - Manufacturing: Robotics and predictive maintenance.\n",
      "- **Key Players in AI Technology**\n",
      "    - Overview of leading companies and their contributions to AI advancements.\n",
      "    - Highlight innovations from start-ups.\n",
      "- **Future of AI**\n",
      "    - Speculate on upcoming trends (e.g., AI-human collaboration).\n",
      "    - Discuss the urgency for regulatory frameworks and ethical guidelines.\n",
      "  \n",
      "**Call to Action**\n",
      "- Encourage readers to engage with AI technology: “Explore AI tools for your business/startup and stay informed on ethical practices.”\n",
      "\n",
      "**4. SEO Keywords and Resources**\n",
      "\n",
      "**SEO Keywords:**\n",
      "- Artificial Intelligence trends 2023\n",
      "- AI companies leading innovation\n",
      "- AI ethics and regulations\n",
      "- Generative AI applications\n",
      "- Future of AI technology\n",
      "\n",
      "**Relevant Data & Sources:**\n",
      "- Reports from McKinsey on AI adoption in businesses.\n",
      "- TechCrunch and Wired articles for the latest AI news.\n",
      "- Research papers from MIT and Stanford on AI ethics.\n",
      "- Case studies from major AI players (e.g., OpenAI’s advancements).\n",
      "\n",
      "This comprehensive content plan will offer readers valuable insights into the dynamics of Artificial Intelligence while addressing their concerns and interests. The final article crafted from this outline should empower readers to understand AI's impact and consider how they can integrate its benefits into their lives or businesses.\u001b[00m\n",
      "\n",
      "\n",
      "\u001b[1m\u001b[95m# Agent:\u001b[00m \u001b[1m\u001b[92mContent Writer\u001b[00m\n",
      "\u001b[95m## Task:\u001b[00m \u001b[92m1. Use the content plan to craft a compelling blog post on Artificial Intelligence.\n",
      "2. Incorporate SEO keywords naturally.\n",
      "3. Sections/Subtitles are properly named in an engaging manner.\n",
      "4. Ensure the post is structured with an engaging introduction, insightful body, and a summarizing conclusion.\n",
      "5. Proofread for grammatical errors and alignment with the brand's voice.\n",
      "\u001b[00m\n",
      "\n",
      "\n",
      "\u001b[1m\u001b[95m# Agent:\u001b[00m \u001b[1m\u001b[92mContent Writer\u001b[00m\n",
      "\u001b[95m## Final Answer:\u001b[00m \u001b[92m\n",
      "```markdown\n",
      "# The Evolution and Impact of Artificial Intelligence in 2023\n",
      "\n",
      "Artificial Intelligence (AI) has transformed from a buzzword into a fundamental aspect of modern technology. As we move further into 2023, AI is not just about automation; it embodies a spectrum of capabilities that extend into various sectors—from healthcare to finance, and even cybersecurity. This evolution poses not only immense opportunities but also significant challenges and ethical considerations that compel us to navigate this landscape wisely.\n",
      "\n",
      "With innovation accelerating at an unprecedented pace, it’s crucial to stay informed about the latest trends, recognize key players, and understand the implications of AI technology in our daily lives and businesses. In this article, we will explore the most notable advancements in AI, the leading companies pushing these innovations, and the future landscape of AI technology.\n",
      "\n",
      "## Current Trends in AI\n",
      "\n",
      "### Advancements in Generative AI\n",
      "\n",
      "One of the standout trends in AI is the remarkable advancements in Generative AI, with tools like ChatGPT and DALL-E redefining creative possibilities. These systems allow users to generate text, images, and even sound that mimic human creativity and have found applications ranging from content creation to art generation. Resources such as [Technology Review](https://www.technologyreview.com) highlight how these tools empower artists and marketers to push boundaries and engage audiences in new ways.\n",
      "\n",
      "Alongside this innovation, the increased focus on AI ethics and regulation signifies a critical turning point. As AI technologies become more integrated into societal structures, concerns around algorithmic bias, transparency, and accountability grow louder. Legislative bodies, particularly in the European Union, are beginning to propose regulations aimed at ensuring AI development is ethical and responsible.\n",
      "\n",
      "### The Importance of AI Ethics\n",
      "\n",
      "The shift towards integrating AI ethics within development is not just timely but necessary. Major companies are beginning to recognize the importance of ethical frameworks when creating AI systems, as they grapple with issues like data privacy and bias mitigation. The call for clear governance and ethical guidelines in AI is echoed in reports from institutions like MIT, emphasizing the need for a balanced approach as we further our innovations in AI technology.\n",
      "\n",
      "## Impact of AI on Industries\n",
      "\n",
      "### Healthcare: Revolutionizing Patient Care\n",
      "\n",
      "The impact of AI on industries is profound, particularly in healthcare. Techniques such as predictive analytics enable more personalized treatments and improved diagnostics, revolutionizing patient care delivery. According to recent reports by McKinsey, AI has the potential to improve efficiencies and effectiveness in healthcare significantly, ultimately leading to better healthcare outcomes.\n",
      "\n",
      "As AI continues to evolve, it is essential to monitor changes in regulatory policies surrounding healthcare applications. While the benefits are promising, the ethical implications of data usage must never be overlooked. Hospitals and health institutions must remain vigilant about patient confidentiality and informed consent as they harness the power of AI.\n",
      "\n",
      "### Finance: Enhancing Security and Efficiency\n",
      "\n",
      "In the financial sector, AI is paving the way for enhanced security and efficiency through systems like fraud detection and algorithmic trading. Financial institutions are increasingly deploying AI to analyze vast datasets for suspicious activities, ensuring that consumer interests are safeguarded while streamlining operations.\n",
      "\n",
      "Not only does AI help in maintaining security and efficiency, but it also shows a potential shift in labor dynamics as automation becomes more prevalent. Concerns around job displacement must be addressed swiftly with upskilling and reskilling strategies, ensuring that the workforce is prepared for this shift.\n",
      "\n",
      "## Key Players in AI Technology\n",
      "\n",
      "### Leading the Charge: Who's Who in AI\n",
      "\n",
      "Some of the key players at the forefront of AI innovation include OpenAI, Google DeepMind, Microsoft, and IBM Watson. These organizations have made significant strides, pushing the boundaries of what AI can achieve across different domains. Their research and advancements not only serve their business needs but also push the industry standard forward, creating a more competitive landscape.\n",
      "\n",
      "Furthermore, innovations from startups like Hugging Face and Databricks demonstrate that fresh perspectives can play a massive role in AI’s evolution. These companies often challenge the status quo, focusing on niche applications and open-source solutions that democratize AI technology accessibility.\n",
      "\n",
      "### Noteworthy News in AI\n",
      "\n",
      "Exciting developments continue to emerge from this landscape. Recent collaborations, such as Microsoft's investment into OpenAI, spotlight how partnerships can enhance capabilities and accelerate development—giving both parties a competitive edge. Keeping abreast of noteworthy news is vital for professionals and enthusiasts alike, as it shapes the trajectory of AI growth and application.\n",
      "\n",
      "## The Future of AI: What Lies Ahead\n",
      "\n",
      "### The Urgency for Regulatory Frameworks\n",
      "\n",
      "As we peer into the future of AI, there’s a sense of urgency to establish robust regulatory frameworks that safeguard ethical considerations while fostering innovation. The collaborative aspect of AI-human interactions is likely to evolve, allowing for unprecedented collaboration that amplifies human creativity and productivity.\n",
      "\n",
      "We must acknowledge that as we become more reliant on AI, the conversations surrounding its ethical implications, job displacement, and accountability will become increasingly critical. The balance between leveraging AI’s potential and maintaining ethical integrity will shape how society adapts to this technology.\n",
      "\n",
      "### Embracing the Integration of AI\n",
      "\n",
      "Moving forward, businesses and individuals alike should embrace AI technology's potential. The integration of AI tools within organizations can enhance efficiency, productivity, and innovation. As we explore the future of AI technology, fostering a mindset that isn’t afraid to ask the critical questions about ethics and societal impact is essential.\n",
      "\n",
      "## Conclusion: Navigating the AI Landscape\n",
      "\n",
      "Artificial Intelligence stands at the precipice of a transformative era. Whether you are a tech enthusiast, a business owner, or simply a curious individual, understanding AI’s evolution and its implications can empower you to harness its benefits responsibly. Encourage yourself and your organizations to explore AI tools that can augment your capabilities while staying informed about ethical practices that will shape the future of this technology.\n",
      "\n",
      "In conclusion, the relationship between society and AI must be mutually beneficial; as we move forward, let us do so with a commitment to innovation grounded in ethical integrity. Together, we can navigate this exciting landscape and ensure that AI serves humanity positively.\n",
      "```\n",
      "\n",
      "This blog post is crafted to provide an engaging, informative overview of Artificial Intelligence trends, adding value to the reader while maintaining clarity and accuracy on the subject matter.\u001b[00m\n",
      "\n",
      "\n",
      "\u001b[1m\u001b[95m# Agent:\u001b[00m \u001b[1m\u001b[92mEditor\u001b[00m\n",
      "\u001b[95m## Task:\u001b[00m \u001b[92mProofread the given blog post for grammatical errors and alignment with the brand's voice.\u001b[00m\n",
      "\n",
      "\n",
      "\u001b[1m\u001b[95m# Agent:\u001b[00m \u001b[1m\u001b[92mEditor\u001b[00m\n",
      "\u001b[95m## Final Answer:\u001b[00m \u001b[92m\n",
      "```markdown\n",
      "# The Evolution and Impact of Artificial Intelligence in 2023\n",
      "\n",
      "Artificial Intelligence (AI) has transformed from a buzzword into a fundamental aspect of modern technology. As we move further into 2023, AI is not just about automation; it embodies a spectrum of capabilities that extend into various sectors—from healthcare to finance and even cybersecurity. This evolution presents immense opportunities while also introducing significant challenges and ethical considerations that compel us to navigate this landscape wisely.\n",
      "\n",
      "With innovation accelerating at an unprecedented pace, it’s crucial to stay informed about the latest trends, recognize key players, and understand the implications of AI technology in our daily lives and businesses. In this article, we will explore the most notable advancements in AI, the leading companies pushing these innovations, and the future landscape of AI technology.\n",
      "\n",
      "## Current Trends in AI\n",
      "\n",
      "### Advancements in Generative AI\n",
      "\n",
      "One of the standout trends in AI is the remarkable advancements in generative AI, with tools like ChatGPT and DALL-E redefining creative possibilities. These systems allow users to generate text, images, and even sound that mimic human creativity, finding applications ranging from content creation to art generation. Resources such as [Technology Review](https://www.technologyreview.com) highlight how these tools empower artists and marketers to push boundaries and engage audiences in new ways.\n",
      "\n",
      "Alongside this innovation, the increased focus on AI ethics and regulation signifies a critical turning point. As AI technologies become more integrated into societal structures, concerns regarding algorithmic bias, transparency, and accountability have intensified. Legislative bodies, particularly in the European Union, are beginning to propose regulations designed to ensure AI development is ethical and responsible.\n",
      "\n",
      "### The Importance of AI Ethics\n",
      "\n",
      "The shift towards integrating AI ethics within development is not just timely but necessary. Major companies are starting to recognize the importance of ethical frameworks when creating AI systems, as they grapple with pressing issues like data privacy and bias mitigation. The call for clear governance and ethical guidelines in AI is echoed in reports from institutions such as MIT, emphasizing the need for a balanced approach as we advance our innovations in AI technology.\n",
      "\n",
      "## Impact of AI on Industries\n",
      "\n",
      "### Healthcare: Revolutionizing Patient Care\n",
      "\n",
      "The impact of AI on industries is profound, particularly within healthcare. Techniques such as predictive analytics enable more personalized treatments and improved diagnostics, thereby revolutionizing patient care delivery. According to recent reports by McKinsey, AI has the potential to significantly enhance efficiencies and effectiveness in healthcare, ultimately leading to better health outcomes.\n",
      "\n",
      "As AI continues to evolve, it is essential to monitor changes in regulatory policies surrounding its applications in healthcare. While the benefits are promising, the ethical implications of data usage must never be overlooked. Hospitals and healthcare institutions must remain vigilant about patient confidentiality and ensuring informed consent as they harness the power of AI.\n",
      "\n",
      "### Finance: Enhancing Security and Efficiency\n",
      "\n",
      "In the financial sector, AI is paving the way for enhanced security and efficiency through systems like fraud detection and algorithmic trading. Financial institutions are increasingly deploying AI to analyze vast datasets for suspicious activities, working to ensure consumer interests are safeguarded while streamlining operations.\n",
      "\n",
      "Moreover, AI not only aids in maintaining security and efficiency but also suggests a potential shift in labor dynamics as automation becomes more prevalent. Concerns surrounding job displacement must be addressed proactively with upskilling and reskilling strategies, ensuring that the workforce is adequately prepared for these changes.\n",
      "\n",
      "## Key Players in AI Technology\n",
      "\n",
      "### Leading the Charge: Who's Who in AI\n",
      "\n",
      "Some of the key players at the forefront of AI innovation include OpenAI, Google DeepMind, Microsoft, and IBM Watson. These organizations have made significant strides, pushing the boundaries of what AI can achieve across various domains. Their research and advancements do not only serve their business needs but also elevate industry standards, fostering a competitive landscape.\n",
      "\n",
      "Additionally, innovations from startups like Hugging Face and Databricks demonstrate that fresh perspectives can significantly influence AI’s evolution. These companies often challenge the status quo, focusing on niche applications and open-source solutions that democratize access to AI technology.\n",
      "\n",
      "### Noteworthy News in AI\n",
      "\n",
      "Exciting developments continue to emerge from the AI landscape. Recent collaborations, such as Microsoft's investment in OpenAI, underscore how partnerships can enhance capabilities and accelerate development—providing both parties a competitive edge. Staying informed about noteworthy news is vital for professionals and enthusiasts alike, as it shapes the trajectory of AI growth and application.\n",
      "\n",
      "## The Future of AI: What Lies Ahead\n",
      "\n",
      "### The Urgency for Regulatory Frameworks\n",
      "\n",
      "As we look toward the future of AI, there is an urgency to establish robust regulatory frameworks that safeguard ethical considerations while still fostering innovation. The collaborative nature of AI-human interactions is expected to evolve further, allowing for unprecedented collaboration that amplifies human creativity and productivity.\n",
      "\n",
      "It is important to note that as we become increasingly reliant on AI, discussions surrounding its ethical implications, job displacement, and accountability will intensify. Striking the right balance between leveraging AI’s potential and maintaining ethical integrity will shape how society adapts to this transformative technology.\n",
      "\n",
      "### Embracing the Integration of AI\n",
      "\n",
      "Moving forward, businesses and individuals alike should embrace the potential of AI technology. Integrating AI tools within organizations can enhance efficiency, boost productivity, and drive innovation. As we explore the future of AI technology, fostering a mindset that encourages critical questioning about ethics and societal impact is essential.\n",
      "\n",
      "## Conclusion: Navigating the AI Landscape\n",
      "\n",
      "Artificial Intelligence stands at the precipice of a transformative era. Whether you are a tech enthusiast, a business owner, or merely a curious individual, understanding AI’s evolution and its implications can empower you to harness its benefits responsibly. Encourage yourself and your organizations to explore AI tools that can augment your capabilities while remaining informed about ethical practices that will ultimately shape the future of this technology.\n",
      "\n",
      "In conclusion, the relationship between society and AI must be mutually beneficial; as we move forward, let us do so with a commitment to innovation grounded in ethical integrity. Together, we can navigate this thrilling landscape and ensure that AI serves humanity positively.\n",
      "```\u001b[00m\n",
      "\n",
      "\n"
     ]
    }
   ],
   "source": [
    "result = crew.kickoff(inputs={\"topic\": \"Artificial Intelligence\"})"
   ]
  },
  {
   "cell_type": "markdown",
   "metadata": {},
   "source": [
    "- Display the results of your execution as markdown in the notebook."
   ]
  },
  {
   "cell_type": "code",
   "execution_count": 25,
   "metadata": {
    "height": 47
   },
   "outputs": [
    {
     "data": {
      "text/markdown": [
       "```markdown\n",
       "# The Evolution and Impact of Artificial Intelligence in 2023\n",
       "\n",
       "Artificial Intelligence (AI) has transformed from a buzzword into a fundamental aspect of modern technology. As we move further into 2023, AI is not just about automation; it embodies a spectrum of capabilities that extend into various sectors—from healthcare to finance and even cybersecurity. This evolution presents immense opportunities while also introducing significant challenges and ethical considerations that compel us to navigate this landscape wisely.\n",
       "\n",
       "With innovation accelerating at an unprecedented pace, it’s crucial to stay informed about the latest trends, recognize key players, and understand the implications of AI technology in our daily lives and businesses. In this article, we will explore the most notable advancements in AI, the leading companies pushing these innovations, and the future landscape of AI technology.\n",
       "\n",
       "## Current Trends in AI\n",
       "\n",
       "### Advancements in Generative AI\n",
       "\n",
       "One of the standout trends in AI is the remarkable advancements in generative AI, with tools like ChatGPT and DALL-E redefining creative possibilities. These systems allow users to generate text, images, and even sound that mimic human creativity, finding applications ranging from content creation to art generation. Resources such as [Technology Review](https://www.technologyreview.com) highlight how these tools empower artists and marketers to push boundaries and engage audiences in new ways.\n",
       "\n",
       "Alongside this innovation, the increased focus on AI ethics and regulation signifies a critical turning point. As AI technologies become more integrated into societal structures, concerns regarding algorithmic bias, transparency, and accountability have intensified. Legislative bodies, particularly in the European Union, are beginning to propose regulations designed to ensure AI development is ethical and responsible.\n",
       "\n",
       "### The Importance of AI Ethics\n",
       "\n",
       "The shift towards integrating AI ethics within development is not just timely but necessary. Major companies are starting to recognize the importance of ethical frameworks when creating AI systems, as they grapple with pressing issues like data privacy and bias mitigation. The call for clear governance and ethical guidelines in AI is echoed in reports from institutions such as MIT, emphasizing the need for a balanced approach as we advance our innovations in AI technology.\n",
       "\n",
       "## Impact of AI on Industries\n",
       "\n",
       "### Healthcare: Revolutionizing Patient Care\n",
       "\n",
       "The impact of AI on industries is profound, particularly within healthcare. Techniques such as predictive analytics enable more personalized treatments and improved diagnostics, thereby revolutionizing patient care delivery. According to recent reports by McKinsey, AI has the potential to significantly enhance efficiencies and effectiveness in healthcare, ultimately leading to better health outcomes.\n",
       "\n",
       "As AI continues to evolve, it is essential to monitor changes in regulatory policies surrounding its applications in healthcare. While the benefits are promising, the ethical implications of data usage must never be overlooked. Hospitals and healthcare institutions must remain vigilant about patient confidentiality and ensuring informed consent as they harness the power of AI.\n",
       "\n",
       "### Finance: Enhancing Security and Efficiency\n",
       "\n",
       "In the financial sector, AI is paving the way for enhanced security and efficiency through systems like fraud detection and algorithmic trading. Financial institutions are increasingly deploying AI to analyze vast datasets for suspicious activities, working to ensure consumer interests are safeguarded while streamlining operations.\n",
       "\n",
       "Moreover, AI not only aids in maintaining security and efficiency but also suggests a potential shift in labor dynamics as automation becomes more prevalent. Concerns surrounding job displacement must be addressed proactively with upskilling and reskilling strategies, ensuring that the workforce is adequately prepared for these changes.\n",
       "\n",
       "## Key Players in AI Technology\n",
       "\n",
       "### Leading the Charge: Who's Who in AI\n",
       "\n",
       "Some of the key players at the forefront of AI innovation include OpenAI, Google DeepMind, Microsoft, and IBM Watson. These organizations have made significant strides, pushing the boundaries of what AI can achieve across various domains. Their research and advancements do not only serve their business needs but also elevate industry standards, fostering a competitive landscape.\n",
       "\n",
       "Additionally, innovations from startups like Hugging Face and Databricks demonstrate that fresh perspectives can significantly influence AI’s evolution. These companies often challenge the status quo, focusing on niche applications and open-source solutions that democratize access to AI technology.\n",
       "\n",
       "### Noteworthy News in AI\n",
       "\n",
       "Exciting developments continue to emerge from the AI landscape. Recent collaborations, such as Microsoft's investment in OpenAI, underscore how partnerships can enhance capabilities and accelerate development—providing both parties a competitive edge. Staying informed about noteworthy news is vital for professionals and enthusiasts alike, as it shapes the trajectory of AI growth and application.\n",
       "\n",
       "## The Future of AI: What Lies Ahead\n",
       "\n",
       "### The Urgency for Regulatory Frameworks\n",
       "\n",
       "As we look toward the future of AI, there is an urgency to establish robust regulatory frameworks that safeguard ethical considerations while still fostering innovation. The collaborative nature of AI-human interactions is expected to evolve further, allowing for unprecedented collaboration that amplifies human creativity and productivity.\n",
       "\n",
       "It is important to note that as we become increasingly reliant on AI, discussions surrounding its ethical implications, job displacement, and accountability will intensify. Striking the right balance between leveraging AI’s potential and maintaining ethical integrity will shape how society adapts to this transformative technology.\n",
       "\n",
       "### Embracing the Integration of AI\n",
       "\n",
       "Moving forward, businesses and individuals alike should embrace the potential of AI technology. Integrating AI tools within organizations can enhance efficiency, boost productivity, and drive innovation. As we explore the future of AI technology, fostering a mindset that encourages critical questioning about ethics and societal impact is essential.\n",
       "\n",
       "## Conclusion: Navigating the AI Landscape\n",
       "\n",
       "Artificial Intelligence stands at the precipice of a transformative era. Whether you are a tech enthusiast, a business owner, or merely a curious individual, understanding AI’s evolution and its implications can empower you to harness its benefits responsibly. Encourage yourself and your organizations to explore AI tools that can augment your capabilities while remaining informed about ethical practices that will ultimately shape the future of this technology.\n",
       "\n",
       "In conclusion, the relationship between society and AI must be mutually beneficial; as we move forward, let us do so with a commitment to innovation grounded in ethical integrity. Together, we can navigate this thrilling landscape and ensure that AI serves humanity positively.\n",
       "```"
      ],
      "text/plain": [
       "<IPython.core.display.Markdown object>"
      ]
     },
     "execution_count": 25,
     "metadata": {},
     "output_type": "execute_result"
    }
   ],
   "source": [
    "from IPython.display import Markdown\n",
    "Markdown(result.raw)"
   ]
  },
  {
   "cell_type": "markdown",
   "metadata": {},
   "source": [
    "## Try it Yourself\n",
    "\n",
    "- Pass in a topic of your choice and see what the agents come up with!"
   ]
  },
  {
   "cell_type": "code",
   "execution_count": null,
   "metadata": {
    "height": 47
   },
   "outputs": [],
   "source": [
    "topic = \"Dating in the future\"\n",
    "result = crew.kickoff(inputs={\"topic\": topic})"
   ]
  },
  {
   "cell_type": "code",
   "execution_count": null,
   "metadata": {
    "height": 30
   },
   "outputs": [],
   "source": [
    "Markdown(result.raw)"
   ]
  },
  {
   "cell_type": "markdown",
   "metadata": {},
   "source": [
    "<a name='1'></a>\n",
    " ## Other Popular Models as LLM for your Agents"
   ]
  },
  {
   "cell_type": "markdown",
   "metadata": {},
   "source": [
    "#### Hugging Face (HuggingFaceHub endpoint)\n",
    "\n",
    "```Python\n",
    "from langchain_community.llms import HuggingFaceHub\n",
    "\n",
    "llm = HuggingFaceHub(\n",
    "    repo_id=\"HuggingFaceH4/zephyr-7b-beta\",\n",
    "    huggingfacehub_api_token=\"<HF_TOKEN_HERE>\",\n",
    "    task=\"text-generation\",\n",
    ")\n",
    "\n",
    "### you will pass \"llm\" to your agent function\n",
    "```"
   ]
  },
  {
   "cell_type": "markdown",
   "metadata": {},
   "source": [
    "#### Mistral API\n",
    "\n",
    "```Python\n",
    "OPENAI_API_KEY=your-mistral-api-key\n",
    "OPENAI_API_BASE=https://api.mistral.ai/v1\n",
    "OPENAI_MODEL_NAME=\"mistral-small\"\n",
    "```"
   ]
  },
  {
   "cell_type": "markdown",
   "metadata": {},
   "source": [
    "#### Cohere\n",
    "\n",
    "```Python\n",
    "from langchain_community.chat_models import ChatCohere\n",
    "# Initialize language model\n",
    "os.environ[\"COHERE_API_KEY\"] = \"your-cohere-api-key\"\n",
    "llm = ChatCohere()\n",
    "\n",
    "### you will pass \"llm\" to your agent function\n",
    "```"
   ]
  },
  {
   "cell_type": "markdown",
   "metadata": {},
   "source": [
    "### For using Llama locally with Ollama and more, checkout the crewAI documentation on [Connecting to any LLM](https://docs.crewai.com/how-to/LLM-Connections/)."
   ]
  },
  {
   "cell_type": "code",
   "execution_count": null,
   "metadata": {
    "height": 30
   },
   "outputs": [],
   "source": []
  }
 ],
 "metadata": {
  "colab": {
   "gpuType": "T4",
   "provenance": []
  },
  "kernelspec": {
   "display_name": ".venv",
   "language": "python",
   "name": "python3"
  },
  "language_info": {
   "codemirror_mode": {
    "name": "ipython",
    "version": 3
   },
   "file_extension": ".py",
   "mimetype": "text/x-python",
   "name": "python",
   "nbconvert_exporter": "python",
   "pygments_lexer": "ipython3",
   "version": "3.12.0"
  }
 },
 "nbformat": 4,
 "nbformat_minor": 4
}
